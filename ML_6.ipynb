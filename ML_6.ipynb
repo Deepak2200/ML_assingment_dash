{
 "cells": [
  {
   "cell_type": "markdown",
   "id": "70c7ef4c-9e1d-49d1-9d01-dd176d9a6608",
   "metadata": {},
   "source": [
    "# 1. In the sense of machine learning, what is a model? What is the best way to train a model?"
   ]
  },
  {
   "cell_type": "code",
   "execution_count": null,
   "id": "0cd52f1b-d4be-4028-802e-ff4daa0b6e22",
   "metadata": {},
   "outputs": [],
   "source": [
    "Ans: A Machine Learning Model is a file that has been trained to recognize certain types of patterns. You train a model over a set of data, providing it an algorithm that it can use to reason over and learn from those data.\n",
    "\n",
    "Model Naming — Give Your Model a Name, Let’s start with giving your model a name, describe your model and attach tags to your model. Tags are to make your model searchable.\n",
    "Data Type Selection — Choose data type(Images/Text/CSV), It’s time to tell us about the type of data you want to train your model. ML Models support Images, Text and *.CSV (categorical data) data types.\n",
    "Data Upload — Upload your data or choose from Public Data Sets: Choose from public datasets like Jewellery Data set (Images), Gender Data Set (Images), Question or Sentence Data Set (Text), Numerai Data Set (CSV) or upload your data.\n",
    "Type category(label) for the files (images/text file) that you have uploaded and click on submit to begin upload. Wait for some time till our web app uploads all the files. You can upload images for as many categories as possible.\n",
    "Start Training - Push the button, to start the training. Now Mateverse’s intelligent backend will start with processing the data that you have uploaded and preparing it for the training."
   ]
  },
  {
   "cell_type": "markdown",
   "id": "4b2a9dc3-7508-4e5d-a7d3-ea4982fecef7",
   "metadata": {},
   "source": [
    "# 2. In the sense of machine learning, explain the \"No Free Lunch\" theorem."
   ]
  },
  {
   "cell_type": "markdown",
   "id": "8d5b954f-b8f4-468a-892e-915f11e960d0",
   "metadata": {},
   "source": [
    "Ans: The No Free Lunch Theorem, often abbreviated as NFL or NFLT, is a theoretical finding that suggests all optimization algorithms perform equally well when their performance is averaged over all possible objective functions. In computational complexity and optimization the no free lunch theorem is a result that states that for certain types of mathematical problems, the computational cost of finding a solution, averaged over all problems in the class, is the same for any solution method.\n",
    "\n",
    "In Simple Words “No Free Lunch” theorem means we can’t rely on one model to be best of all models. We have to understand data properly and make use of ML understanding and make use of models to find best out of it."
   ]
  },
  {
   "cell_type": "markdown",
   "id": "9f789a88-2960-4888-b70d-957b636e61af",
   "metadata": {},
   "source": [
    "# 3. Describe the K-fold cross-validation mechanism in detail."
   ]
  },
  {
   "cell_type": "markdown",
   "id": "056d3c02-8ec9-4f00-8dd4-2a07e30c3aed",
   "metadata": {},
   "source": [
    "Ans: In K-fold cross validation, data D is subset into k subsets randomly. Let us assume S1...Sk are the subsets where Sk is the kth randomly split subset of data D. In the first iteration, D-S1 is used for training and S1 for testing the model. When the model has been trained and tested, evaluation can be done, score is noted elsewhere and the trained model is discarded.\n",
    "\n",
    "These k-iterations go on where 1/k subset of D is always set aside for testing the data and D-1/k subsets are used for training, evaluating and discarding the model. At the end of all the iterations, average of all the evaluation scores is taken and used as output."
   ]
  },
  {
   "cell_type": "markdown",
   "id": "a245eb9a-5758-44a8-bbd9-1cf5fe383a5d",
   "metadata": {},
   "source": [
    "# 4. Describe the bootstrap sampling method. What is the aim of it?"
   ]
  },
  {
   "cell_type": "markdown",
   "id": "e6fe3b66-804c-4b05-9fa0-eb58444de505",
   "metadata": {},
   "source": [
    "Ans: In K-fold cross validation, data D is subset into k subsets randomly. Let us assume S1...Sk are the subsets where Sk is the kth randomly split subset of data D. In the first iteration, D-S1 is used for training and S1 for testing the model. When the model has been trained and tested, evaluation can be done, score is noted elsewhere and the trained model is discarded.\n",
    "\n",
    "These k-iterations go on where 1/k subset of D is always set aside for testing the data and D-1/k subsets are used for training, evaluating and discarding the model. At the end of all the iterations, average of all the evaluation scores is taken and used as output."
   ]
  },
  {
   "cell_type": "markdown",
   "id": "02741cac-45a2-4476-b677-3c80afdd7b5d",
   "metadata": {},
   "source": [
    "# 5. What is the significance of calculating the Kappa value for a classification model? Demonstrate how to measure the Kappa value of a classification model using a sample collection of results.\n"
   ]
  },
  {
   "cell_type": "markdown",
   "id": "46dc5d1e-31c7-43fd-aa8a-ffe53a036722",
   "metadata": {},
   "source": [
    "Ans: Kappa value or Cohen's Kappa coefficient is an evaluation metric for classification models. Its significance as an evaluation metric is that it can be used to evaluate multi class classification models and also works on models trained on imbalanced datasets(scores like accuracy scores fail for imbalanced datasets).\n",
    "\n",
    "In simpler words It basically tells you how much better your classifier is performing over the performance of a classifier that simply guesses at random according to the frequency of each class. Cohen's kappa is always less than or equal to 1. Values of 0 or less, indicate that the classifier is useless Cohen suggested the Kappa result be interpreted as follows: values ≤ 0 as indicating no agreement and 0.01–0.20 as none to slight, 0.21–0.40 as fair, 0.41– 0.60 as moderate, 0.61–0.80 as substantial, and 0.81–1.00 as almost perfect agreement."
   ]
  },
  {
   "cell_type": "markdown",
   "id": "0f110664-4767-49e6-94c6-308b762bed34",
   "metadata": {},
   "source": [
    "# 6. Describe the model ensemble method. In machine learning, what part does it play?"
   ]
  },
  {
   "cell_type": "markdown",
   "id": "c5e92fbd-b4fa-4e3c-b8f5-d34d98cefd9f",
   "metadata": {},
   "source": [
    "Ans: Ensemble methods or ensemble machine learning models are models where more than one models are being used spontaneously to produce better results than individually trained models."
   ]
  },
  {
   "cell_type": "markdown",
   "id": "e3ffb5aa-af42-4fd9-857f-b967dd176f1a",
   "metadata": {},
   "source": [
    "# 7. What is a descriptive model's main purpose? Give examples of real-world problems that descriptive models were used to solve.\n"
   ]
  },
  {
   "cell_type": "markdown",
   "id": "38bb533c-a1cb-430b-b31c-21d0c9044f6b",
   "metadata": {},
   "source": [
    "Ans: A descriptive model is used for tasks that would benefit from the insight gained from summarizing data in new and interesting ways. As opposed to predictive models that predict a target of interest, in a descriptive model, no single feature is more important than any other. In fact, because there is no target to learn, the process of training a descriptive model is called unsupervised learning.\n",
    "\n",
    "It is used in customer classification as real life problem ."
   ]
  },
  {
   "cell_type": "markdown",
   "id": "f3650348-8a44-4750-9222-229cc1450073",
   "metadata": {},
   "source": [
    "# 8. Describe how to evaluate a linear regression model."
   ]
  },
  {
   "cell_type": "code",
   "execution_count": null,
   "id": "f5b8a8dd-84c1-4326-bc66-6724eabd7d03",
   "metadata": {},
   "outputs": [],
   "source": [
    "Ans: Evaluation of a linear regression model can be done using R-square. R square is calculated as the sum of squared errors in predictions made, divided by summation of all sum of squares. R square measures how much of the change in target variable can be explained by the linear regressor. Its value ranges from 0 to 1 where 0 means poor performance and 1 means good. Some other techniques which can be used to evaluate a linear regression model are:\n",
    "\n",
    "Mean Square Error(MSE)/Root Mean Square Error(RMSE)\n",
    "Mean Absolute Error(MAE)"
   ]
  },
  {
   "cell_type": "code",
   "execution_count": null,
   "id": "8a07e0e7-097b-49cf-b3a6-0f264daf9f41",
   "metadata": {},
   "outputs": [],
   "source": [
    "9. Distinguish :\n",
    "\n",
    "1. Descriptive vs. predictive models\n",
    "\n",
    "2. Underfitting vs. overfitting the model\n",
    "\n",
    "3. Bootstrapping vs. cross-validation"
   ]
  },
  {
   "cell_type": "markdown",
   "id": "8789bc7f-ed59-4860-8b11-840698ee0631",
   "metadata": {},
   "source": [
    "### Descriptive vs. predictive models\n",
    "\n",
    "Descriptive models are built to identify trends and underlying patterns.\n",
    "Predictive models are built to predict a dependent variable value.\n",
    "Most of descriptive models are built using unsupervised machine learning.\n",
    "Most of predictive models are built using classification and regression models.\n",
    "Example for descriptive model: Finding why consumers are engaging more with a social media post.\n",
    "Example for predictive model: Predicting the chances of cancer in a patient."
   ]
  },
  {
   "cell_type": "code",
   "execution_count": null,
   "id": "a2a09b76-507e-40c5-b3e1-4fddb009e846",
   "metadata": {},
   "outputs": [],
   "source": [
    "Underfitting vs. overfitting the model\n",
    "\n",
    "Underfitting is a situation arising when the hypothesis is way too simple, or when the machine learning model is way too simple to produce good results.\n",
    "Overfitting is a situation arising when the hypothesis is way too complex, or when the machine learning model is way too complex to produce good results.\n",
    "Underfitting causes a model to produce poor results due to heavily simplified algorithm reacting lightly to changes in the unseen data for independent variables from the training data.\n",
    "Overfitting makes a model produce poor results due to slightest variations in the unseen data for independent variables from the training data\n",
    "Underfitting is also called High Bias.\n",
    "Overfitting is also called High variance"
   ]
  },
  {
   "cell_type": "code",
   "execution_count": null,
   "id": "aeaa7238-f7d1-4e67-84b7-553fbc5c22a2",
   "metadata": {},
   "outputs": [],
   "source": [
    "Bootstrapping vs cross-validation\n",
    "\n",
    "Boostrap sampling is a method of sampling in which the repeated sampling is done with replacement using a data D in random draws over which machine learning models are trained for better performance.\n",
    "Cross validation is a method used to check the efficacy of the machine learning model on test data.\n",
    "End goal of bootstrapping is to reduce overfitting and increase performance.\n",
    "End goal of cross validation is only to produce test scores to check efficacy of model\n",
    "Bootstrapping is best employed in Random Forest Classifier.\n",
    "Cross Validation is best employed using K-fold cross validation technique."
   ]
  },
  {
   "cell_type": "code",
   "execution_count": null,
   "id": "3feeb7d8-bbbd-47dc-ad28-326126af4f03",
   "metadata": {},
   "outputs": [],
   "source": [
    "10. Make quick notes on:\n",
    "\n",
    "            1. LOOCV.\n",
    "\n",
    "            2. F-measurement\n",
    "\n",
    "            3. The width of the silhouette\n",
    "\n",
    "             4. Receiver operating characteristic curve\n"
   ]
  },
  {
   "cell_type": "code",
   "execution_count": null,
   "id": "3f675d49-3252-4fa9-998c-844f21b28329",
   "metadata": {},
   "outputs": [],
   "source": []
  }
 ],
 "metadata": {
  "kernelspec": {
   "display_name": "Python 3 (ipykernel)",
   "language": "python",
   "name": "python3"
  },
  "language_info": {
   "codemirror_mode": {
    "name": "ipython",
    "version": 3
   },
   "file_extension": ".py",
   "mimetype": "text/x-python",
   "name": "python",
   "nbconvert_exporter": "python",
   "pygments_lexer": "ipython3",
   "version": "3.10.6"
  }
 },
 "nbformat": 4,
 "nbformat_minor": 5
}
