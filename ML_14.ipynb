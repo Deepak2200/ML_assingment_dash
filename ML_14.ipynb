{
 "cells": [
  {
   "cell_type": "markdown",
   "id": "b207f022-4c2f-4853-89fc-1a887861d940",
   "metadata": {},
   "source": [
    "### 1. What is the concept of supervised learning? What is the significance of the name ?\n",
    "Ans: Supervised learning, also known as supervised machine learning, is a subcategory of machine learning and artificial intelligence. It is defined by its use of labeled datasets to train algorithms that to classify data or predict outcomes accurately."
   ]
  },
  {
   "cell_type": "markdown",
   "id": "3f6d504a-2c05-416a-a493-ed75e60a6e4c",
   "metadata": {},
   "source": [
    "### 2. In the hospital sector, offer an example of supervised learning ?\n",
    "Ans: Supervised learning uses a training set to teach models to yield the desired output. This training dataset includes inputs and correct outputs, which allow the model to learn over time. The algorithm measures its accuracy through the loss function, adjusting until the error has been sufficiently minimized."
   ]
  },
  {
   "cell_type": "markdown",
   "id": "00565b41-2850-42c9-bd1d-ef410dfdc01a",
   "metadata": {},
   "source": [
    "### 3. Give three supervised learning examples ?\n",
    "Ans: Example of Supervised Learning Algorithms are:\n",
    "\n",
    "Linear Regression.\n",
    "\n",
    "Nearest Neighbor.\n",
    "\n",
    "Gaussian Naive Bayes.\n",
    "\n",
    "Decision Trees.\n",
    "\n",
    "Support Vector Machine (SVM)\n",
    "\n",
    "Random Forest."
   ]
  },
  {
   "cell_type": "markdown",
   "id": "c5f526ed-3d16-4976-bb4b-1c0e868c86de",
   "metadata": {},
   "source": [
    "### 4. In supervised learning, what are classification and regression ?\n",
    "Ans: Fundamentally, classification is about predicting a label and regression is about predicting a quantity. That classification is the problem of predicting a discrete class label output for an example. That regression is the problem of predicting a continuous quantity output for an example."
   ]
  },
  {
   "cell_type": "markdown",
   "id": "c3d418c7-f546-4d41-9583-205ef97aa849",
   "metadata": {},
   "source": [
    "### 5. Give some popular classification algorithms as examples ?\n",
    "Ans: Popular algorithms that can be used for multi-class classification include:\n",
    "\n",
    "k-Nearest Neighbors'\n",
    "\n",
    "Decision Trees.\n",
    "\n",
    "Naive Bayes"
   ]
  },
  {
   "cell_type": "markdown",
   "id": "9e604c6a-ca64-4d87-a569-2d9163789d9a",
   "metadata": {},
   "source": [
    "### 6. Briefly describe the SVM model ?\n",
    "Ans: A support vector machine (SVM) is a supervised machine learning model that uses classification algorithms for two-group classification problems. After giving an SVM model sets of labeled training data for each category, they're able to categorize new text."
   ]
  },
  {
   "cell_type": "markdown",
   "id": "8b1b6e96-b02b-4321-bf92-1e6f262b2e5b",
   "metadata": {},
   "source": [
    "### 7. In SVM, what is the cost of misclassification ?\n",
    "Ans: In cost-sensitive learning instead of each instance being either correctly or incorrectly classified, each class (or instance) is given a misclassification cost. Thus, instead of trying to optimize the accuracy, the problem is then to minimize the total misclassification cost."
   ]
  },
  {
   "cell_type": "markdown",
   "id": "323aec22-56d5-4eb8-ac2a-9c5a7a8128ba",
   "metadata": {},
   "source": [
    "### 8. In the SVM model, define Support Vectors ?\n",
    "Ans: Support vectors are data points that are closer to the hyperplane and influence the position and orientation of the hyperplane. Using these support vectors, we maximize the margin of the classifier. Deleting the support vectors will change the position of the hyperplane. These are the points that help us build our SVM."
   ]
  },
  {
   "cell_type": "markdown",
   "id": "664871dc-04dc-4f21-adc3-b81dd833fe20",
   "metadata": {},
   "source": [
    "### 9. In the SVM model, define the kernel ?\n",
    "Ans: SVM algorithms use a set of mathematical functions that are defined as the kernel. The function of kernel is to take data as input and transform it into the required form. These functions can be different types. For example linear, nonlinear, polynomial, radial basis function (RBF), and sigmoid."
   ]
  },
  {
   "cell_type": "markdown",
   "id": "23f59122-b90b-4dbb-a05a-a4e26e00e02e",
   "metadata": {},
   "source": [
    "### 10. What are the factors that influence SVM's effectiveness ?\n",
    "Ans: SVM or Support Vector Machine is a linear model for classification and regression problems. It can solve linear and non-linear problems and work well for many practical problems. The idea of SVM is simple: The algorithm creates a line or a hyperplane which separates the data into classes."
   ]
  },
  {
   "cell_type": "markdown",
   "id": "c1a2e214-b306-4a1b-897e-ba95070903ae",
   "metadata": {},
   "source": [
    "### 11. What are the benefits of using the SVM model ?\n",
    "Ans: SVM works relatively well when there is a clear margin of separation between classes. SVM is more effective in high dimensional spaces. SVM is effective in cases where the number of dimensions is greater than the number of samples.SVM is relatively memory efficient."
   ]
  },
  {
   "cell_type": "markdown",
   "id": "906c192a-cc8b-4134-8ee7-0e950dff79e1",
   "metadata": {},
   "source": [
    "### 12. What are the drawbacks of using the SVM model ?\n",
    "Ans: SVM algorithm is not suitable for large data sets. SVM does not perform very well when the data set has more noise i.e. target classes are overlapping. In cases where the number of features for each data point exceeds the number of training data samples, the SVM will underperform."
   ]
  },
  {
   "cell_type": "markdown",
   "id": "566429ba-6902-40fc-b500-e1baca8190b3",
   "metadata": {},
   "source": [
    "### 13. Notes should be written on\n",
    "#### 1.The kNN algorithm has a validation flaw.\n",
    "#### 2.In the kNN algorithm, the k value is chosen.\n",
    "#### 3.A decision tree with inductive bias"
   ]
  },
  {
   "cell_type": "markdown",
   "id": "37102794-fbfd-4999-9f67-32ad82ca5b48",
   "metadata": {},
   "source": [
    "Ans: The Short notes on below topics is:\n",
    "\n",
    "### The kNN algorithm has a validation flaw.\n",
    "The relatively low accuracy of kNN is caused by several factors. One of them is that every characteristic of the method has the same result on calculating distance. The solution of this problem is to give weight to each data characteristic.\n",
    "\n",
    "### In the kNN algorithm, the k value is chosen.\n",
    "The optimal K value usually found is the square root of N, where N is the total number of samples. Use an error plot or accuracy plot to find the most favorable K value. KNN performs well with multi-label classes, but you must be aware of the outliers.\n",
    "\n",
    "### A decision tree with inductive bias\n",
    "Shorter trees are preferred over longer ones. Trees that place high information gain attributes close to the root are preferred over those that do not."
   ]
  },
  {
   "cell_type": "markdown",
   "id": "1b6f8eb9-0318-49af-9214-cb87520c679d",
   "metadata": {},
   "source": [
    "### 14. What are some of the benefits of the kNN algorithm ?\n",
    "Ans: Some Advantages of KNN are:\n",
    "\n",
    "Quick calculation time.\n",
    "\n",
    "Simple algorithm – to interpret.\n",
    "\n",
    "Versatile – useful for regression and classification.\n",
    "\n",
    "High accuracy – you do not need to compare with better-supervised learning models."
   ]
  },
  {
   "cell_type": "markdown",
   "id": "444bf779-0ecc-459f-8a13-9451c6a7979d",
   "metadata": {},
   "source": [
    "### 15. What are some of the kNN algorithm's drawbacks ?\n",
    "Ans: Some Disadvantages of KNN are:\n",
    "\n",
    "Accuracy depends on the quality of the data.\n",
    "\n",
    "With large data, the prediction stage might be slow.\n",
    "\n",
    "Sensitive to the scale of the data and irrelevant features.\n",
    "\n",
    "Require high memory – need to store all of the training data.\n",
    "\n",
    "Given that it stores all of the training, it can be computationally expensive."
   ]
  },
  {
   "cell_type": "markdown",
   "id": "97b0cc43-a5f9-4da7-a283-2e0528bc4d89",
   "metadata": {},
   "source": [
    "### 16. Explain the decision tree algorithm in a few words ?\n",
    "Ans: A decision tree is a graphical representation of all the possible solutions to a decision based on certain conditions. Tree models where the target variable can take a finite set of values are called classification trees and target variable can take continuous values (numbers) are called regression trees."
   ]
  },
  {
   "cell_type": "markdown",
   "id": "129b09df-d600-46bd-9f3a-8674b57f9c4e",
   "metadata": {},
   "source": [
    "### 17. What is the difference between a node and a leaf in a decision tree ?\n",
    "Ans: A decision tree is a flowchart-like structure in which each internal node represents a \"test\" on an attribute (e.g. whether a coin flip comes up heads or tails), each branch represents the outcome of the test, and each leaf node represents a class label (decision taken after computing all attributes)."
   ]
  },
  {
   "cell_type": "markdown",
   "id": "1bd5efa1-ca98-4035-8573-1bfadb40bd8a",
   "metadata": {},
   "source": [
    "### 18. What is a decision tree's entropy ?\n",
    "Ans: Entropy helps us to build an appropriate decision tree for selecting the best splitter. Entropy can be defined as a measure of the purity of the sub split. Entropy always lies between 0 to 1. The entropy of any split can be calculate by this formula."
   ]
  },
  {
   "cell_type": "markdown",
   "id": "5626b9fd-0370-410d-91ea-f4e63624b493",
   "metadata": {},
   "source": [
    "### 19. In a decision tree, define knowledge gain ?\n",
    "Ans: Information gain is the reduction in entropy or surprise by transforming a dataset and is often used in training decision trees.Information gain is calculated by comparing the entropy of the dataset before and after a transformation."
   ]
  },
  {
   "cell_type": "markdown",
   "id": "f2b2b9be-b578-436e-a317-21a51b1c3c43",
   "metadata": {},
   "source": [
    "### 20. Choose three advantages of the decision tree approach and write them down ?\n",
    "Ans: Advantages of Decision Trees :\n",
    "\n",
    "Easy to read and interpret. One of the advantages of decision trees is that their outputs are easy to read and interpret without requiring statistical knowledge.\n",
    "\n",
    "Easy to prepare.\n",
    "\n",
    "Less data cleaning required."
   ]
  },
  {
   "cell_type": "markdown",
   "id": "77155035-932f-471a-aaea-654ebd40bfc4",
   "metadata": {},
   "source": [
    "### 21. Make a list of three flaws in the decision tree process ?\n",
    "Ans: Issues in Decision Tree Learning :\n",
    "\n",
    "Overfitting the data.\n",
    "\n",
    "Guarding against bad attribute choices.\n",
    "\n",
    "Handling continuous valued attributes.\n",
    "\n",
    "Handling missing attribute values.\n",
    "\n",
    "Handling attributes with differing costs."
   ]
  },
  {
   "cell_type": "markdown",
   "id": "714ba076-0688-4f62-9c2a-ae51fc7b25a7",
   "metadata": {},
   "source": [
    "### 22. Briefly describe the random forest model ?\n",
    "Ans: The random forest is a classification algorithm consisting of many decisions trees. It uses bagging and feature randomness when building each individual tree to try to create an uncorrelated forest of trees whose prediction by committee is more accurate than that of any individual tree."
   ]
  },
  {
   "cell_type": "code",
   "execution_count": null,
   "id": "748a6a1d-a4df-4745-8b21-8fa59e47032e",
   "metadata": {},
   "outputs": [],
   "source": []
  }
 ],
 "metadata": {
  "kernelspec": {
   "display_name": "Python 3 (ipykernel)",
   "language": "python",
   "name": "python3"
  },
  "language_info": {
   "codemirror_mode": {
    "name": "ipython",
    "version": 3
   },
   "file_extension": ".py",
   "mimetype": "text/x-python",
   "name": "python",
   "nbconvert_exporter": "python",
   "pygments_lexer": "ipython3",
   "version": "3.10.6"
  }
 },
 "nbformat": 4,
 "nbformat_minor": 5
}
