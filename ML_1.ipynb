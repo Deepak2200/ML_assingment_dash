{
 "cells": [
  {
   "cell_type": "code",
   "execution_count": 1,
   "id": "5d74d8b5-a502-45ea-a9e0-994756702182",
   "metadata": {},
   "outputs": [],
   "source": [
    "#1. What does one mean by the term \"machine learning\"?\n",
    "Machine learning is a branch of artificial intelligence (AI) and\n",
    "computer science which focuses on the use of data and\n",
    "algorithms to imitate the way that humans learn, gradually improving its accuracy."
   ]
  },
  {
   "cell_type": "code",
   "execution_count": null,
   "id": "8cbc4e65-f314-471b-b93e-242f83445c74",
   "metadata": {},
   "outputs": [],
   "source": [
    "#2.Can you think of 4 distinct types of issues where it shines?\n",
    "The following are some of the issues where Machine Learning can be used:\n",
    "\n",
    "Image Recognition: Image recognition is one of the most common applications of machine learning. It is used to identify objects, persons, places, digital images, etc. The popular use case of image recognition and face detection is Automatic friend tagging suggestion.\n",
    "\n",
    "Speech Recognition: While using Google, we get an option of Search by voice, it comes under speech recognition, and it's a popular application of Machine Learning. Speech recognition is a process of converting voice instructions into text, and it is also known as Speech to text, or Computer based speech recognition At present, machine learning algorithms are widely used by various applications of speech recognition. Google assistant, Siri, Cortana, and Alexa are using speech recognition technology to follow the voice instructions.\n",
    "\n",
    "Traffic prediction: It predicts the traffic conditions such as whether traffic is cleared, slow-moving, or heavily congested with the help of two ways: Real Time location of the vehicle form Google Map app and sensors Average time has taken on past days at the same time.\n",
    "\n",
    "Product recommendations: Machine learning is widely used by various e-commerce and entertainment companies such as Amazon, Netflix, etc., for product recommendation to the user."
   ]
  },
  {
   "cell_type": "code",
   "execution_count": null,
   "id": "9465a250-00ac-4755-a686-f1111b127ae0",
   "metadata": {},
   "outputs": [],
   "source": [
    "#3.What is a labeled training set, and how does it work?\n",
    "Ans:-You split up the data containing known response variable values into two pieces.\n",
    "The training set is used to train the algorithm, and then you use the trained model on the test set to predict the response variable values that are already known."
   ]
  },
  {
   "cell_type": "code",
   "execution_count": null,
   "id": "735e12d8-8ff8-41fa-a882-39cdbe349200",
   "metadata": {},
   "outputs": [],
   "source": [
    "#4.What are the two most important tasks that are supervised?\n",
    "Ans:-The two most common supervised learning tasks are Regression and Classification."
   ]
  },
  {
   "cell_type": "code",
   "execution_count": null,
   "id": "f2b9ef6b-a299-433d-8999-945d016c42fa",
   "metadata": {},
   "outputs": [],
   "source": [
    "#5.Can you think of four examples of unsupervised tasks?\n",
    "Ans:-Four common Unsupervised Tasks included Clustering, Visualization, Dimensionality Reduction, and Association Rule Learning."
   ]
  },
  {
   "cell_type": "code",
   "execution_count": null,
   "id": "f193d5f8-78d4-4ab4-87b1-e35af61d2935",
   "metadata": {},
   "outputs": [],
   "source": [
    "#6.State the machine learning model that would be best to make a robot walk through various unfamiliar terrains?\n",
    "Ans:-The best Machine Learning algorithm to allow a Robot to walk in unfamiliar terrains is Reinforced Learning, where the robot can learn from response of the terrain to optimize itself."
   ]
  },
  {
   "cell_type": "code",
   "execution_count": null,
   "id": "865bbd65-ddd2-4727-a57e-a590c144d585",
   "metadata": {},
   "outputs": [],
   "source": [
    "#7.Which algorithm will you use to divide your customers into different groups?\n",
    "Ans:-The Best Algorithm to Segment Customers into different groups is either Supervised Learning (if the groups have known labels)\n",
    "or Unsupervised Learning (if there are no group labels)."
   ]
  },
  {
   "cell_type": "code",
   "execution_count": null,
   "id": "d188e9b7-b090-4f3c-8f2a-48a6bd58925b",
   "metadata": {},
   "outputs": [],
   "source": [
    "#8.Will you consider the problem of spam detection to be a supervised or unsupervised learning problem?\n",
    "Ans:-Spam detection is a Supervised Machine Learning problem because the labels are known (spam or no spam)"
   ]
  },
  {
   "cell_type": "code",
   "execution_count": null,
   "id": "2981bda9-dd41-4683-9909-dea78775ae6e",
   "metadata": {},
   "outputs": [],
   "source": [
    "#9.What is the concept of an online learning system?\n",
    "Ans: Online learning system is a learning system in which the machine learns continously, as data is given in small streams continuously."
   ]
  },
  {
   "cell_type": "code",
   "execution_count": null,
   "id": "a1833f99-d550-4cc7-922c-6bcab28f680c",
   "metadata": {},
   "outputs": [],
   "source": [
    "#10.What is out-of-core learning, and how does it differ from core learning?\n",
    "Ans:-Out-of-core learning system is a system that can handle data that cannot fit into your computer memory.\n",
    "It uses online learning system to feed data in small bits."
   ]
  },
  {
   "cell_type": "code",
   "execution_count": null,
   "id": "0fae0487-2c33-4648-9085-9a35c5e850b4",
   "metadata": {},
   "outputs": [],
   "source": [
    "#11.What kind of learning algorithm makes predictions using a similarity measure?\n",
    "Ans:-Learning algorithm that relies on a similarity measure to make predictions is Instance Based Algorithm."
   ]
  },
  {
   "cell_type": "code",
   "execution_count": null,
   "id": "3c87bda5-6cb1-4f50-b358-accede3a5414",
   "metadata": {},
   "outputs": [],
   "source": [
    "#12.What's the difference between a model parameter and a hyperparameter in a learning algorithm?\n",
    "Ans:-Model parameter determines how a model will predict given a new instance. Model usually has more than one parameter (i.e. slope of a linear model). \n",
    "Hyperparameter is a parameter for the learning algorithm, not of a model."
   ]
  },
  {
   "cell_type": "code",
   "execution_count": null,
   "id": "87e8cb9b-889b-4de8-a316-75401d111bce",
   "metadata": {},
   "outputs": [],
   "source": [
    "#13.What are the criteria that model-based learning algorithms look for? What is the most popular method they use to achieve success? What method do they use to make predictions?\n",
    "Ans:-Model based learning algorithm search for the optimal value of parameters in a model that will give the best results for the new instances. We often use a cost function or similar to determine what the parameter value has to be in order to minimize the function.\n",
    "The model makes prediction by using the value of the new instance and the parameters in its function."
   ]
  },
  {
   "cell_type": "code",
   "execution_count": null,
   "id": "643dfded-b3f1-4eb1-a5be-88fbed8e32fb",
   "metadata": {},
   "outputs": [],
   "source": [
    "#14.Can you name four of the most important Machine Learning challenges?\n",
    "Ans:-Four main challenges in Machine Learning include the following:\n",
    "1.Overfitting the Data (using a model too complicated)\n",
    "2.Underfitting the data (using a simple model)\n",
    "3.Lacking in Data\n",
    "4.Non Representative Data"
   ]
  },
  {
   "cell_type": "code",
   "execution_count": null,
   "id": "e5a792c3-232c-4c38-9fd2-2f4bc767fead",
   "metadata": {},
   "outputs": [],
   "source": [
    "#15.What happens if the model performs well on the training data but fails to generalize the results to new situations? Can you think of three different options?\n",
    "Ans:-If the model performs poorly to new instances, then it has overfitted on the training data. To solve this, we can do any of the following three:\n",
    "1.Get more data\n",
    "2.Implement a simpler model\n",
    "3.Eliminate outliers or noise from the existing data set."
   ]
  },
  {
   "cell_type": "code",
   "execution_count": null,
   "id": "1c90c269-2ae5-44c1-8442-073e59e16dd0",
   "metadata": {},
   "outputs": [],
   "source": [
    "#16.What exactly is a test set, and why would you need one?\n",
    "Ans:-Test set is a set to test your model (fit using training data) to see how it performs.\n",
    "Test set is necessary to determine how good (or bad) a model performs."
   ]
  },
  {
   "cell_type": "code",
   "execution_count": null,
   "id": "af85e7a8-7be8-4708-9a4e-8d8bbfc74e6f",
   "metadata": {},
   "outputs": [],
   "source": [
    "#17.What is a validation set's purpose?\n",
    "Ans:-Validation set is a set used to compare between different training models."
   ]
  },
  {
   "cell_type": "code",
   "execution_count": null,
   "id": "844e2b44-ba69-4339-b2dd-5a1559027765",
   "metadata": {},
   "outputs": [],
   "source": [
    "#18.What precisely is the train-dev kit, when will you need it, how do you put it to use?\n",
    "Ans:-Cross-validation is a tool to compare models without needing a separate validation set. \n",
    "It is preferred over validation set because we can save from breaking of part of the training set to create a validation set, as having more data is valuable regardless."
   ]
  },
  {
   "cell_type": "code",
   "execution_count": null,
   "id": "549e0be3-a869-4515-ba04-b0c02170bd1f",
   "metadata": {},
   "outputs": [],
   "source": [
    "#19.What could go wrong if you use the test set to tune hyperparameters?\n",
    "Ans:-If you tune hyperparameters using the test sets, \n",
    "then it may not perform well on the out-of-sample data because the model is tuned just for that specific set."
   ]
  }
 ],
 "metadata": {
  "kernelspec": {
   "display_name": "Python 3 (ipykernel)",
   "language": "python",
   "name": "python3"
  },
  "language_info": {
   "codemirror_mode": {
    "name": "ipython",
    "version": 3
   },
   "file_extension": ".py",
   "mimetype": "text/x-python",
   "name": "python",
   "nbconvert_exporter": "python",
   "pygments_lexer": "ipython3",
   "version": "3.10.6"
  }
 },
 "nbformat": 4,
 "nbformat_minor": 5
}
