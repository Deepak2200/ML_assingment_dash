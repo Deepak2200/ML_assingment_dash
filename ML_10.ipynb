{
 "cells": [
  {
   "cell_type": "markdown",
   "id": "fc9407c9-2520-4ac7-abfe-d2df24182724",
   "metadata": {},
   "source": [
    "# 1. Define the Bayesian interpretation of probability.\n",
    "Ans: Bayesian probability is the study of subjective probabilities or belief in an outcome, compared to the frequentist approach where probabilities are based purely on the past occurrence of the event. A Bayesian Network captures the joint probabilities of the events represented by the model.\n"
   ]
  },
  {
   "cell_type": "markdown",
   "id": "33c0d23a-8df6-48de-b1f4-fed3363936c0",
   "metadata": {},
   "source": [
    "\n",
    "# 2. Define probability of a union of two events with equation.\n",
    "Ans: The general probability addition rule for the union of two events states that P(A∪B)=P(A)+P(B)−P(A∩B), where A∩B is the intersection of the two sets.\n",
    "\n"
   ]
  },
  {
   "cell_type": "markdown",
   "id": "2e7f7376-b473-4541-9db7-26517e15b9d0",
   "metadata": {},
   "source": [
    "# 3. What is joint probability? What is its formula?\n",
    "Ans: Probabilities are combined using multiplication, therefore the joint probability of independent events is calculated as the probability of event A multiplied by the probability of event B. This can be stated formally as follows:\n",
    "\n",
    "Joint Probability: P(A and B) = P(A)*P(B)\n",
    "\n"
   ]
  },
  {
   "cell_type": "markdown",
   "id": "701dbf96-589e-4b9d-a9a6-1deb36d11cbb",
   "metadata": {},
   "source": [
    "# 4. What is chain rule of probability?\n",
    "Ans: The chain rule, or general product rule, calculates any component of the joint distribution of a set of random variables using only conditional probabilities. This probability theory is used as a foundation for backpropagation and in creating Bayesian networks.\n",
    "\n"
   ]
  },
  {
   "cell_type": "markdown",
   "id": "97a0b53e-9bee-4121-89cd-3e444ca9f2d1",
   "metadata": {},
   "source": [
    "# 5. What is conditional probability means? What is the formula of it?\n",
    "Ans: Conditional probability is defined as the likelihood of an event or outcome occurring, based on the occurrence of a previous event or outcome.\n",
    "\n",
    "Conditional probability is calculated by multiplying the probability of the preceding event by the updated probability of the succeeding, or conditional, event.\n",
    "\n",
    "Let's take a real-life example. Probability of selling a TV on a given normal day may be only 30%. But if we consider that given day is Diwali, then there are much more chances of selling a TV. The conditional Probability of selling a TV on a day given that Day is Diwali might be 70%.\n",
    "\n"
   ]
  },
  {
   "cell_type": "markdown",
   "id": "6add6110-1fe4-4cb4-ba4e-ed9644ce2884",
   "metadata": {},
   "source": [
    "# 6. What are continuous random variables?\n",
    "Ans: A continuous random variable X takes all values in a given interval of numbers. ▪ The probability distribution of a continuous random variable is shown by a density curve. ▪ The probability that X is between an interval of numbers is the area under the density curve between the interval endpoints.\n",
    "\n"
   ]
  },
  {
   "cell_type": "markdown",
   "id": "342e3995-7b95-4486-88c8-903faa1c0157",
   "metadata": {},
   "source": [
    "# 7. What are Bernoulli distributions? What is the formula of it?\n",
    "Ans: A Bernoulli distribution is a discrete probability distribution for a Bernoulli trial — a random experiment that has only two outcomes (usually called a Succes or a Failure).The expected value for a random variable, X.\n",
    "\n",
    "For a Bernoulli distribution is: E[X] = p.For example, if p = 0.04, then E[X] = 0.4\n",
    "\n"
   ]
  },
  {
   "cell_type": "markdown",
   "id": "73ce8b5f-10a7-4804-a3d7-a7a35d00728d",
   "metadata": {},
   "source": [
    "# 8. What is binomial distribution? What is the formula?\n",
    "Ans: The binomial is a type of distribution that has two possible outcomes (the prefix “bi” means two, or twice).For example, a coin toss has only two possible outcomes: heads or tails and taking a test could have two possible outcomes: pass or fail.\n",
    "\n",
    "A Binomial Distribution shows either (S)uccess or (F)ailure."
   ]
  },
  {
   "cell_type": "markdown",
   "id": "17394a16-9960-4640-a5f8-86acecdcefe3",
   "metadata": {},
   "source": [
    "# 9. What is Poisson distribution? What is the formula?\n",
    "Ans: A Poisson distribution is defined as a discrete frequency distribution that gives the probability of the number of independent events that occur in the fixed time.\n",
    "\n",
    "In statistics, a Poisson distribution is a probability distribution that is used to show how many times an event is likely to occur over a specified period. ... The Poisson distribution is a discrete function, meaning that the variable can only take specific values in a (potentially infinite) list.\n",
    "\n"
   ]
  },
  {
   "cell_type": "markdown",
   "id": "be13dbaf-7141-40b1-a115-bbf5bc422bcb",
   "metadata": {},
   "source": [
    "# 10. Define covariance.\n",
    "Ans: Covariance is a measure of how much two random variables vary together. It's similar to variance, but where variance tells you how a single variable varies, co variance tells you how two variables vary together.\n",
    "\n"
   ]
  },
  {
   "cell_type": "markdown",
   "id": "444a79fb-9614-464f-9f04-4554d1953c2d",
   "metadata": {},
   "source": [
    "# 11. Define correlation\n",
    "Ans: Correlation explains how one or more variables are related to each other. These variables can be input data features which have been used to forecast our target variable. It's a bi-variate analysis measure which describes the association between different variables.\n"
   ]
  },
  {
   "cell_type": "markdown",
   "id": "68c0a357-4576-47f8-9daf-7487bb7f3e63",
   "metadata": {},
   "source": [
    "# 12. Define sampling with replacement. Give example.\n",
    "Ans: If you sample with replacement, you would choose one person's name, put that person's name back in the hat, and then choose another name. The possibilities for your two-name sample are: John, John. John, Jack.\n",
    "\n"
   ]
  },
  {
   "cell_type": "markdown",
   "id": "12a2174f-5d70-4a2b-b675-13e449d896cd",
   "metadata": {},
   "source": [
    "# 13. What is sampling without replacement? Give example.\n",
    "Ans: If you sample with replacement, you would choose one person's name, put that person's name back in the hat, and then choose another name. The possibilities for your two-name sample are: John, John. John, Jack."
   ]
  },
  {
   "cell_type": "markdown",
   "id": "b9279796-9d64-4a99-87b5-edd1fb834890",
   "metadata": {},
   "source": [
    "# 14. What is hypothesis? Give example.\n",
    "Ans: A hypothesis (plural hypotheses) is a proposed explanation for a phenomenon. For a hypothesis to be a scientific hypothesis, the scientific method requires that one can test it. ... Even though the words \"hypothesis\" and \"theory\" are often used synonymously, a scientific hypothesis is not the same as a scientific theory.\n",
    "\n",
    "Examples of hypothesis statements: If garlic repels fleas, then a dog that is given garlic every day will not get fleas. Bacterial growth may be affected by moisture levels in the air. If sugar causes cavities, then people who eat a lot of candy may be more prone to cavities."
   ]
  },
  {
   "cell_type": "code",
   "execution_count": null,
   "id": "c859c6ae-42e8-4b93-ae65-6860e3cc8078",
   "metadata": {},
   "outputs": [],
   "source": []
  }
 ],
 "metadata": {
  "kernelspec": {
   "display_name": "Python 3 (ipykernel)",
   "language": "python",
   "name": "python3"
  },
  "language_info": {
   "codemirror_mode": {
    "name": "ipython",
    "version": 3
   },
   "file_extension": ".py",
   "mimetype": "text/x-python",
   "name": "python",
   "nbconvert_exporter": "python",
   "pygments_lexer": "ipython3",
   "version": "3.10.6"
  }
 },
 "nbformat": 4,
 "nbformat_minor": 5
}
