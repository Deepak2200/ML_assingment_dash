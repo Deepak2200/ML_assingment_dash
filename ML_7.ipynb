{
 "cells": [
  {
   "cell_type": "markdown",
   "id": "83f7f474-fd4a-4c31-8126-f9688f3ee0ec",
   "metadata": {},
   "source": [
    "## 1. What is the definition of a target function? In the sense of a real-life example, express the target function. How is a target function's fitness assessed?"
   ]
  },
  {
   "cell_type": "markdown",
   "id": "d3f5f2d9-2950-4f68-a507-9b5c22d28633",
   "metadata": {},
   "source": [
    "Ans: A target function, in machine learning, is a method for solving a problem that an AI algorithm parses its training data to find.The target function is essentially the formula that an algorithm feeds data to in order to calculate predictions.\n",
    "\n",
    "Analyzing the massive amounts of data related to its given problem, an AI derives understanding of previously unspecified rules by detecting consistencies in the data. The observations of inherent rules about how the studied subject operates inform the AI on how to process future data that does not include an output by applying this previously unknown function."
   ]
  },
  {
   "cell_type": "markdown",
   "id": "8128b098-f1ce-43a9-8eb3-9837bc5a3c2b",
   "metadata": {},
   "source": [
    "## 2. What are predictive models, and how do they work? What are descriptive types, and how do you use them? Examples of both types of models should be provided. Distinguish between these two forms of models."
   ]
  },
  {
   "cell_type": "markdown",
   "id": "0b51eb12-2b07-4933-a631-97d7872bf52a",
   "metadata": {},
   "source": [
    "Ans: In short, predictive modeling is a statistical technique using machine learning and data mining to predict and forecast likely future outcomes with the aid of historical and existing data.\n",
    "\n",
    "It works by analyzing current and historical data and projecting what it learns on a model generated to forecast likely outcomes.\n",
    "\n",
    "The three main types of descriptive studies are Case studies, Naturalistic observation, and Surveys.\n",
    "\n",
    "Some examples of descriptive research are: A specialty food group launching a new range of barbecue rubs would like to understand what flavors of rubs are favored by different people.\n",
    "\n",
    "Case Studies are a type of observational research that involve a thorough descriptive analysis of a single individual, group, or event. There is no single way to conduct a case study so researchers use a range of methods from unstructured interviewing to direct observation."
   ]
  },
  {
   "cell_type": "markdown",
   "id": "cbe7c75e-6adf-4f09-b7f4-2c9a733fc985",
   "metadata": {},
   "source": [
    "## 3. Describe the method of assessing a classification model's efficiency in detail. Describe the various measurement parameters.\n"
   ]
  },
  {
   "cell_type": "markdown",
   "id": "23c638aa-2e6e-4060-9ce9-6183ae567e58",
   "metadata": {},
   "source": [
    "Ans: Logarithmic loss (or log loss) measures the performance of a classification model where the prediction is a probability value between 0 and 1.\n",
    "\n",
    "Log loss increases as the predicted probability diverge from the actual label. Log loss is a widely used metric for Kaggle competitions. Input on the most important basics for the measurement of the physical parameters: Temperature, flow velocity, humidity, pressure, CO2 and infrared. Tips on correct measurement and for avoiding measurement errors."
   ]
  },
  {
   "cell_type": "markdown",
   "id": "b0104d6c-e060-43f8-95e3-bcb842382b87",
   "metadata": {},
   "source": [
    "## 4. "
   ]
  },
  {
   "cell_type": "markdown",
   "id": "448aa167-43fc-47a4-b4f5-3f87b0c8111a",
   "metadata": {},
   "source": [
    "\n",
    "i. In the sense of machine learning models, what is underfitting? What is the most common reason for underfitting?\n",
    "ii. What does it mean to overfit? When is it going to happen?\n",
    "iii. In the sense of model fitting, explain the bias-variance trade-off.\n"
   ]
  },
  {
   "cell_type": "markdown",
   "id": "a971ee74-554a-45a5-9602-896f76ef5835",
   "metadata": {},
   "source": [
    "Ans: The following is the short notes on:\n",
    "\n",
    "### In the sense of machine learning models, what is underfitting? What is the most common reason for underfitting:\n",
    "\n",
    "Underfitting is a scenario in data science where a data model is unable to capture the relationship between the input and output variables accurately, generating a high error rate on both the training set and unseen data."
   ]
  },
  {
   "cell_type": "markdown",
   "id": "9cdb1e7f-c500-4089-b3cd-397f214c82e6",
   "metadata": {},
   "source": [
    "### What does it mean to overfit? When is it going to happen\n",
    "\n",
    "Overfitting happens when a model learns the detail and noise in the training data to the extent that it negatively impacts the performance of the model on new data. This means that the noise or random fluctuations in the training data is picked up and learned as concepts by the model."
   ]
  },
  {
   "cell_type": "markdown",
   "id": "e8e4509f-79a7-47b4-aa06-88bb2118d19e",
   "metadata": {},
   "source": [
    "### In the sense of model fitting, explain the bias-variance trade-off\n",
    "\n",
    "The bias is known as the difference between the prediction of the values by the ML model and the correct value. Being high in biasing gives a large error in training as well as testing data. By high bias, the data predicted is in a straight line format, thus not fitting accurately in the data in the data set."
   ]
  },
  {
   "cell_type": "markdown",
   "id": "46c4974d-73e2-4e62-a47c-2974b2132f75",
   "metadata": {},
   "source": [
    "# 5. Is it possible to boost the efficiency of a learning model? If so, please clarify how.\n"
   ]
  },
  {
   "cell_type": "markdown",
   "id": "c2b1477a-16d2-48bc-adbf-fc666123e272",
   "metadata": {},
   "source": [
    "Ans: Building a machine learning model is not enough to get the right predictions, as you have to check the accuracy and need to validate the same to ensure get the precise results. And validating the model will improve the performance of the ML model."
   ]
  },
  {
   "cell_type": "markdown",
   "id": "d38c5159-d1bc-4c70-9167-884a37fe13b4",
   "metadata": {},
   "source": [
    "# 6. How would you rate an unsupervised learning model's success? What are the most common success indicators for an unsupervised learning model?\n"
   ]
  },
  {
   "cell_type": "code",
   "execution_count": null,
   "id": "b0142fbf-6e27-4aab-b9fa-4577bd3f325a",
   "metadata": {},
   "outputs": [],
   "source": [
    "Ans: In case of supervised learning, it is mostly done by measuring the performance metrics such as accuracy, precision, recall, AUC, etc. on the training set and the holdout sets.\n",
    "\n",
    "Few examples of such measures are:\n",
    "\n",
    "Silhouette coefficient.\n",
    "Calisnki-Harabasz coefficient.\n",
    "Dunn index.\n",
    "Xie-Beni score.\n",
    "Hartigan index."
   ]
  },
  {
   "cell_type": "markdown",
   "id": "32658549-e244-4451-b97f-0fef50d7083a",
   "metadata": {},
   "source": [
    "# 7. Is it possible to use a classification model for numerical data or a regression model for categorical data with a classification model? Explain your answer.\n"
   ]
  },
  {
   "cell_type": "markdown",
   "id": "b2b623b1-5f3b-4828-a96b-d4d41ed5ffa3",
   "metadata": {},
   "source": [
    "Ans: Categorical Data is the data that generally takes a limited number of possible values. Also, the data in the category need not be numerical, it can be textual in nature. All machine learning models are some kind of mathematical model that need numbers to work with. This is one of the primary reasons we need to pre-process the categorical data before we can feed it to machine learning models.\n",
    "\n",
    "If a categorical target variable needs to be encoded for a classification predictive modeling problem, then the LabelEncoder class can be used."
   ]
  },
  {
   "cell_type": "markdown",
   "id": "470e48d5-4a36-47e3-985a-b3bd90cdbc14",
   "metadata": {},
   "source": [
    "# 8. Describe the predictive modeling method for numerical values. What distinguishes it from categorical predictive modeling?\n"
   ]
  },
  {
   "cell_type": "markdown",
   "id": "00150de7-2519-4410-87f7-90faedb774ad",
   "metadata": {},
   "source": [
    "Ans: predictive modeling is a statistical technique using machine learning and data mining to predict and forecast likely future outcomes with the aid of historical and existing data. It works by analyzing current and historical data and projecting what it learns on a model generated to forecast likely outcomes.\n",
    "\n",
    "Classification is the process of identifying the category or class label of the new observation to which it belongs.Predication is the process of identifying the missing or unavailable numerical data for a new observation. That is the key difference between classification and prediction."
   ]
  },
  {
   "cell_type": "markdown",
   "id": "7e2e37a3-62f4-4c24-99f6-945b8df3bdab",
   "metadata": {},
   "source": [
    "# 9. The following data were collected when using a classification model to predict the malignancy of a group of patients' tumors:\n",
    "###    i. Accurate estimates – 15 cancerous, 75 benign\n",
    "###    ii. Wrong predictions – 3 cancerous, 7 benign\n",
    "###     Determine the model's error rate, Kappa value, sensitivity, precision, and F-measure.\n"
   ]
  },
  {
   "cell_type": "markdown",
   "id": "3165f965-d606-4be8-bb44-d26077915499",
   "metadata": {},
   "source": [
    "Ans: The Quick notes on the following topics is below:"
   ]
  },
  {
   "cell_type": "markdown",
   "id": "39666100-7dd3-44be-93d4-c5a75b1d7a24",
   "metadata": {},
   "source": [
    "### The process of holding out:\n",
    "The hold-out method for training machine learning model is the process of splitting the data in different splits and using one split for training the model and other splits for validating and testing the models. The hold-out method is used for both model evaluation and model selection."
   ]
  },
  {
   "cell_type": "markdown",
   "id": "4625a01f-676b-4adc-bef5-a479ab797fad",
   "metadata": {},
   "source": [
    "### Cross-validation by tenfold:\n",
    "10-fold cross validation would perform the fitting procedure a total of ten times, with each fit being performed on a training set consisting of 90% of the total training set selected at random, with the remaining 10% used as a hold out set for validation."
   ]
  },
  {
   "cell_type": "markdown",
   "id": "7db6dcca-13d7-4340-a8d4-c6ce9b0917a5",
   "metadata": {},
   "source": [
    "### Adjusting the parameters:\n",
    "A fancy name for training: the selection of parameter values, which are optimal in some desired sense (eg. minimize an objective function you choose over a dataset you choose). The parameters are the weights and biases of the network"
   ]
  },
  {
   "cell_type": "markdown",
   "id": "74aea596-56b5-4f15-89c8-97638a698d0a",
   "metadata": {},
   "source": [
    "# 10. Make quick notes on:\n",
    "###        1. The process of holding out\n",
    "###        2. Cross-validation by tenfold\n",
    "###         3. Adjusting the parameters\n"
   ]
  },
  {
   "cell_type": "markdown",
   "id": "62e22d75-7dc7-47b2-b1d4-e5e628c85978",
   "metadata": {},
   "source": [
    "Ans: The Quick notes on the following topics is below:\n",
    "\n",
    "### The process of holding out:\n",
    "The hold-out method for training machine learning model is the process of splitting the data in different splits and using one split for training the model and other splits for validating and testing the models. The hold-out method is used for both model evaluation and model selection."
   ]
  },
  {
   "cell_type": "markdown",
   "id": "f7647dd4-1ab1-4fb3-9bfb-6a4b6917c5a5",
   "metadata": {},
   "source": [
    "### Cross-validation by tenfold:\n",
    "10-fold cross validation would perform the fitting procedure a total of ten times, with each fit being performed on a training set consisting of 90% of the total training set selected at random, with the remaining 10% used as a hold out set for validation.\n"
   ]
  },
  {
   "cell_type": "markdown",
   "id": "30074e39-6ddf-4e7b-8586-bc524a0ddc39",
   "metadata": {},
   "source": [
    "### Adjusting the parameters:\n",
    "A fancy name for training: the selection of parameter values, which are optimal in some desired sense (eg. minimize an objective function you choose over a dataset you choose). The parameters are the weights and biases of the network"
   ]
  },
  {
   "cell_type": "markdown",
   "id": "4ba96ab2-9caa-4606-ac10-abfbdec0d583",
   "metadata": {},
   "source": [
    "# 11. Define the following terms: \n",
    "###         1. Purity vs. Silhouette width\n",
    "###         2. Boosting vs. Bagging\n",
    "###         3. The eager learner vs. the lazy learner"
   ]
  },
  {
   "cell_type": "markdown",
   "id": "52f95b69-1222-42e7-b689-c083fcf29736",
   "metadata": {},
   "source": [
    "Ans: The Following is the short notes on:\n",
    "\n",
    "### Purity vs Silhouette width:\n",
    "\n",
    "Purity is a measure of the extent to which clusters contain a single class. Its calculation can be thought of as follows: For each cluster, count the number of data points from the most common class in said cluster.\n",
    "The silhouette width is also an estimate of the average distance between clusters. Its value is comprised between 1 and -1 with a value of 1 indicating a very good cluster."
   ]
  },
  {
   "cell_type": "markdown",
   "id": "cbfc8b0c-cd7e-4c5c-9382-8524c45c0a3a",
   "metadata": {},
   "source": [
    "### Boosting vs. Bagging:\n",
    "\n",
    "Bagging is a way to decrease the variance in the prediction by generating additional data for training from dataset using combinations with repetitions to produce multi-sets of the original data.\n",
    "Boosting is an iterative technique which adjusts the weight of an observation based on the last classification."
   ]
  },
  {
   "cell_type": "code",
   "execution_count": null,
   "id": "468fd9ca-a575-4d76-bb1a-9d176b71a5aa",
   "metadata": {},
   "outputs": [],
   "source": []
  }
 ],
 "metadata": {
  "kernelspec": {
   "display_name": "Python 3 (ipykernel)",
   "language": "python",
   "name": "python3"
  },
  "language_info": {
   "codemirror_mode": {
    "name": "ipython",
    "version": 3
   },
   "file_extension": ".py",
   "mimetype": "text/x-python",
   "name": "python",
   "nbconvert_exporter": "python",
   "pygments_lexer": "ipython3",
   "version": "3.10.6"
  }
 },
 "nbformat": 4,
 "nbformat_minor": 5
}
