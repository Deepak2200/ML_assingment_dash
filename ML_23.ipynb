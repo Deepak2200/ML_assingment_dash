{
 "cells": [
  {
   "cell_type": "markdown",
   "id": "87f7eec7-cf7d-4936-babd-51324e16a032",
   "metadata": {},
   "source": [
    "### 1. What are the key reasons for reducing the dimensionality of a dataset? What are the major disadvantages ?\n",
    "Ans: Disadvantages of Dimensionality Reduction:\n",
    "\n",
    "It may lead to some amount of data loss.\n",
    "\n",
    "PCA tends to find linear correlations between variables, which is sometimes undesirable.\n",
    "\n",
    "PCA fails in cases where mean and covariance are not enough to define datasets.\n"
   ]
  },
  {
   "cell_type": "markdown",
   "id": "53b90a3b-765b-4eb3-9e54-54cb810f5a80",
   "metadata": {},
   "source": [
    "### 2. What is the dimensionality curse ?\n",
    "Ans: The curse of dimensionality basically means that the error increases with the increase in the number of features. It refers to the fact that algorithms are harder to design in high dimensions and often have a running time exponential in the dimensions."
   ]
  },
  {
   "cell_type": "markdown",
   "id": "65fbcc3e-6c23-4bd5-946c-446503cc9d14",
   "metadata": {},
   "source": [
    "### 3. Tell if its possible to reverse the process of reducing the dimensionality of a dataset? If so, how can you go about doing it? If not, what is the reason ?\n",
    "Ans: No, dimensionality reduction is not reversible in general."
   ]
  },
  {
   "cell_type": "markdown",
   "id": "11bd2968-187c-4a47-8be4-6083a5ec6cb8",
   "metadata": {},
   "source": [
    "### 4. Can PCA be utilized to reduce the dimensionality of a nonlinear dataset with a lot of variables ?\n",
    "Ans: Well it Depends on dataset. If it is comprised of points that are perfectly aligned, PCA can reduce the dataset down to 1 dimension and preserve 95% of the variance."
   ]
  },
  {
   "cell_type": "markdown",
   "id": "adeb292f-25b8-4ada-96d6-12337351e221",
   "metadata": {},
   "source": [
    "### 5. Assume you're running PCA on a 1,000-dimensional dataset with a 95 percent explained variance ratio. What is the number of dimensions that the resulting dataset would have ?\n",
    "Ans: If I perform PCA on a 1,000-dimensional dataset, setting the explained variance ratio to 95%. In this case roughly 950 dimensions are required to preserve 95% of the variance. So the answer is, it depends on the dataset, and it could be any number between 1 and 950."
   ]
  },
  {
   "cell_type": "markdown",
   "id": "07946389-110b-43d6-b96b-e67eeba3d0e4",
   "metadata": {},
   "source": [
    "### 6. Will you use vanilla PCA, incremental PCA, randomized PCA, or kernel PCA in which situations ?\n",
    "Ans: The following are the scenarios where the following are used:\n",
    "\n",
    "Vanilla PCA: the dataset fit in memory\n",
    "\n",
    "Incremental PCA: larget dataset that don't fit in memory, online task\n",
    "\n",
    "Randomized PCA: considerably reduce dimensionality and the dataset fit the memory.\n",
    "\n",
    "kernel PCA: used for nonlinear PCA"
   ]
  },
  {
   "cell_type": "markdown",
   "id": "05ca82cd-0c38-4976-94fd-d8b13c7f3dd0",
   "metadata": {},
   "source": [
    "### 7. How do you assess a dimensionality reduction algorithm's success on your dataset ?\n",
    "Ans: By doing PCA, it is a good choice for dimensionality reduction and visualization for datasets with a large number of variables."
   ]
  },
  {
   "cell_type": "markdown",
   "id": "62ace028-655b-4f3c-962f-b0aecce477f1",
   "metadata": {},
   "source": [
    "### 8. Is it logical to use two different dimensionality reduction algorithms in a chain ?\n",
    "Ans: Indeed, it often make any sense to chain two different dimensionality reduction algorithms. A common example is using PCA to quickly get rid of a large number of useless dimensions, then applying another much slower dimensionality reduction algorithm, such as LLE."
   ]
  },
  {
   "cell_type": "code",
   "execution_count": null,
   "id": "867bb150-ca1e-4a8e-8946-b209feb7ec50",
   "metadata": {},
   "outputs": [],
   "source": []
  }
 ],
 "metadata": {
  "kernelspec": {
   "display_name": "Python 3 (ipykernel)",
   "language": "python",
   "name": "python3"
  },
  "language_info": {
   "codemirror_mode": {
    "name": "ipython",
    "version": 3
   },
   "file_extension": ".py",
   "mimetype": "text/x-python",
   "name": "python",
   "nbconvert_exporter": "python",
   "pygments_lexer": "ipython3",
   "version": "3.10.6"
  }
 },
 "nbformat": 4,
 "nbformat_minor": 5
}
