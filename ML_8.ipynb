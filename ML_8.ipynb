{
 "cells": [
  {
   "cell_type": "markdown",
   "id": "1c92911d-eb64-478a-a482-136f95a926ee",
   "metadata": {},
   "source": [
    "# 1. What exactly is a feature? Give an example to illustrate your point."
   ]
  },
  {
   "cell_type": "markdown",
   "id": "5e7b7dd1-f3e7-479f-96d1-00de3342047c",
   "metadata": {},
   "source": [
    "Ans: Features are the basic building blocks of datasets. The quality of the features in your dataset has a major impact on the quality of the insights you will gain when you use that dataset for machine learning.\n",
    "\n",
    "Additionally, different business problems within the same industry do not necessarily require the same features, which is why it is important to have a strong understanding of the business goals of your data science project."
   ]
  },
  {
   "cell_type": "markdown",
   "id": "8d9ab4f6-008b-4921-86b1-ea4f219dbda5",
   "metadata": {},
   "source": [
    "# 2. What are the various circumstances in which feature construction is required?"
   ]
  },
  {
   "cell_type": "markdown",
   "id": "a15182d4-99ab-475f-b8c3-a03bc9807de1",
   "metadata": {},
   "source": [
    "Ans: The features in your data will directly influence the predictive models you use and the results you can achieve. Your results are dependent on many inter-dependent properties. You need great features that describe the structures inherent in your data. Better features means flexibility."
   ]
  },
  {
   "cell_type": "markdown",
   "id": "415878c4-d4f4-423d-b67b-566fc02e71d2",
   "metadata": {},
   "source": [
    "# 3. Describe how nominal variables are encoded."
   ]
  },
  {
   "cell_type": "markdown",
   "id": "3114c80f-82f3-43d6-a39e-54a95902a960",
   "metadata": {},
   "source": [
    "Ans: Nominal data is made of discrete values with no numerical relationship between the different categories — mean and median are meaningless. Animal species is one example. For example, pig is not higher than bird and lower than fish."
   ]
  },
  {
   "cell_type": "markdown",
   "id": "be429fdb-413a-4a37-a9c8-13aaea6821f4",
   "metadata": {},
   "source": [
    "# 4. Describe how numeric features are converted to categorical features."
   ]
  },
  {
   "cell_type": "markdown",
   "id": "af122d8c-1f48-426a-97da-94e754a4b86e",
   "metadata": {},
   "source": [
    "Ans: Converting categorical features into numeric features using domain knowledge. For example, we are given a list of countries and say we know the distance to these countries from India then we can replace it with distance from India. So, every country can be represented as its distance from India."
   ]
  },
  {
   "cell_type": "markdown",
   "id": "04783391-0556-4aeb-bf31-0c6d5dcd5353",
   "metadata": {},
   "source": [
    "# 5. Describe the feature selection wrapper approach. State the advantages and disadvantages of this approach?"
   ]
  },
  {
   "cell_type": "markdown",
   "id": "d6feb113-3b3b-43b3-8598-4c2226abca68",
   "metadata": {},
   "source": [
    "Ans: Wrapper methods measure the “usefulness” of features based on the classifier performance. In contrast, the filter methods pick up the intrinsic properties of the features (i.e., the “relevance” of the features) measured via univariate statistics instead of cross-validation performance.\n",
    "\n",
    "The wrapper classification algorithms with joint dimensionality reduction and classification can also be used but these methods have high computation cost, lower discriminative power. Moreover, these methods depend on the efficient selection of classifiers for obtaining high accuracy"
   ]
  },
  {
   "cell_type": "markdown",
   "id": "c65241df-7259-45d6-a36b-900e1172ee54",
   "metadata": {},
   "source": [
    "# 6. When is a feature considered irrelevant? What can be said to quantify it?"
   ]
  },
  {
   "cell_type": "markdown",
   "id": "25af957d-950b-4f9e-be8a-e2c8a2fb42e6",
   "metadata": {},
   "source": [
    "Ans: Features are considered relevant if they are either strongly or weakly relevant, and are considered irrelevant otherwise.\n",
    "\n",
    "Irrelevant features can never contribute to prediction accuracy, by definition. Also to quantify it we need to first check the list of features, There are three types of feature selection:"
   ]
  },
  {
   "cell_type": "markdown",
   "id": "0cab926e-69d2-4989-b03a-199ff5064dd3",
   "metadata": {},
   "source": [
    "##### Wrapper methods (forward, backward, and stepwise selection)\n",
    "##### Filter methods (ANOVA, Pearson correlation, variance thresholding)\n",
    "##### Embedded methods (Lasso, Ridge, Decision Tree)."
   ]
  },
  {
   "cell_type": "markdown",
   "id": "3c5b79db-399a-42d0-a9e5-1e13049c129f",
   "metadata": {},
   "source": [
    "# 7. When is a function considered redundant? What criteria are used to identify features that could be redundant?"
   ]
  },
  {
   "cell_type": "markdown",
   "id": "58bb92c0-f788-49f1-a5bb-391c7207f278",
   "metadata": {},
   "source": [
    "Ans: If two features {X1, X2} are highly correlated, then the two features become redundant features since they have same information in terms of correlation measure. In other words, the correlation measure provides statistical association between any given a pair of features.\n",
    "\n",
    "Minimum redundancy feature selection is an algorithm frequently used in a method to accurately identify characteristics of genes and phenotypes"
   ]
  },
  {
   "cell_type": "markdown",
   "id": "8960c89f-c330-4c62-afab-d7f3663c132e",
   "metadata": {},
   "source": [
    "# 8. What are the various distance measurements used to determine feature similarity?"
   ]
  },
  {
   "cell_type": "markdown",
   "id": "c3d35fe8-9aef-40dc-97dd-50666ac0405e",
   "metadata": {},
   "source": [
    "Ans:Most commonly used distance measures in machine learning are as follows:\n",
    "\n",
    "Hamming Distance.\n",
    "Euclidean Distance\n",
    "Manhattan Distance."
   ]
  },
  {
   "cell_type": "markdown",
   "id": "d7392d67-0ec6-4512-8658-606b8ac06a91",
   "metadata": {},
   "source": [
    "# 9. State difference between Euclidean and Manhattan distances?"
   ]
  },
  {
   "cell_type": "markdown",
   "id": "5a0e6ce0-8484-4635-a805-ef5109e9b083",
   "metadata": {},
   "source": [
    "Ans: Euclidean & Hamming distances are used to measure similarity or dissimilarity between two sequences. Euclidean distance is extensively applied in analysis of convolutional codes and Trellis codes.\n",
    "\n",
    "Hamming distance is frequently encountered in the analysis of block codes."
   ]
  },
  {
   "cell_type": "markdown",
   "id": "ddb65def-79f8-48db-a7cc-2c9cd0499923",
   "metadata": {},
   "source": [
    "# 10. Distinguish between feature transformation and feature selection."
   ]
  },
  {
   "cell_type": "markdown",
   "id": "45da0bfb-abf8-4f92-9d5f-cf71ce39d268",
   "metadata": {},
   "source": [
    "Ans: Feature selection is for filtering irrelevant or redundant features from your dataset. The key difference between feature selection and extraction is that feature selection keeps a subset of the original features while feature extraction creates brand new ones."
   ]
  },
  {
   "cell_type": "code",
   "execution_count": null,
   "id": "64508f49-e0df-465a-80c3-22c9337fb02f",
   "metadata": {},
   "outputs": [],
   "source": []
  }
 ],
 "metadata": {
  "kernelspec": {
   "display_name": "Python 3 (ipykernel)",
   "language": "python",
   "name": "python3"
  },
  "language_info": {
   "codemirror_mode": {
    "name": "ipython",
    "version": 3
   },
   "file_extension": ".py",
   "mimetype": "text/x-python",
   "name": "python",
   "nbconvert_exporter": "python",
   "pygments_lexer": "ipython3",
   "version": "3.10.6"
  }
 },
 "nbformat": 4,
 "nbformat_minor": 5
}
