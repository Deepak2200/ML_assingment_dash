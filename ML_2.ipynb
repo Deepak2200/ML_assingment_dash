{
 "cells": [
  {
   "cell_type": "markdown",
   "id": "ea595441-6521-42a3-983c-ea008b939695",
   "metadata": {},
   "source": [
    "# 1. What is the concept of human learning? Please give two examples.\n"
   ]
  },
  {
   "cell_type": "markdown",
   "id": "8d65eb46-0643-4f2c-810d-6139d4975006",
   "metadata": {},
   "source": [
    "Ans: Human learning is the form of learning which requires higher order mental processes like thinking, reasoning, intelligence, etc.We learn different concepts from childhood. For example:\n",
    "\n",
    "Learning through Association - Classical Conditioning.\n",
    "Learning through consequences – Operant Conditioning.\n",
    "Learning through observation – Modeling/Observational Learning.\n"
   ]
  },
  {
   "cell_type": "markdown",
   "id": "b24ce252-9ab7-4781-a331-6fce4c3bbcd6",
   "metadata": {},
   "source": [
    "# 2.What different forms of human learning are there? Are there any machine learning equivalents?"
   ]
  },
  {
   "cell_type": "markdown",
   "id": "b1e3c57e-a4e5-48fb-90dc-a13a98fe1993",
   "metadata": {},
   "source": [
    "Ans: Different Forms of ML are as follows :\n",
    "\n",
    "Artificial Intelligence Learning Theories. Machine Learning. Reinforcement Learning. Supervised Learning. Unsupervised Learning.\n",
    "ML equivalents like Linear regression, decision trees, random forest and support vector machines are some commonly used techniques that are actually examples of supervised learning.\n"
   ]
  },
  {
   "cell_type": "markdown",
   "id": "acf7e24b-a6ae-44c7-a2ee-a93be0e8be4e",
   "metadata": {},
   "source": [
    "# 3.What is machine learning, and how does it work? What are the key responsibilities of machine learning?"
   ]
  },
  {
   "cell_type": "markdown",
   "id": "af563334-00d9-4791-9331-bec5bc45875b",
   "metadata": {},
   "source": [
    "Ans: Machine learning is a branch of Artificial intelligence (AI) that teaches computers on how to think in a similar way to how humans do, like by Learning and improving upon past experiences.\n",
    "\n",
    "It works by exploring data and identifying patterns, and involves minimal human intervention.\n",
    "Roles and responsibilities of a machine learning engineer are:\n",
    "\n",
    "Designing ML systems.\n",
    "Researching and implementing ML algorithms and tools. Selecting appropriate data sets.\n",
    "Picking appropriate data representation methods. Identifying differences in data distribution that affects model performance. Verifying data quality."
   ]
  },
  {
   "cell_type": "markdown",
   "id": "de0e92c0-77e3-474e-b37a-aeda1d4186c2",
   "metadata": {},
   "source": [
    "# 4.Define the terms \"penalty\" and \"reward\" in the context of reinforcement learning."
   ]
  },
  {
   "cell_type": "markdown",
   "id": "a9857c1e-cb37-4f68-a941-b0076e0a093a",
   "metadata": {},
   "source": [
    "Ans: A Reinforcement Learning Algorithm, which may also be referred to as an agent, learns by interacting with its environment. The agent receives rewards by performing correctly and penalties for performing incorrectly. The agent learns without intervention from a human by maximizing its reward and minimizing its penalty."
   ]
  },
  {
   "cell_type": "markdown",
   "id": "22227d6b-e76e-43ac-9927-004257ed56a4",
   "metadata": {},
   "source": [
    "# 5.Explain the term \"learning as a search\"?"
   ]
  },
  {
   "cell_type": "markdown",
   "id": "dbe44cfd-560d-4313-93df-ba74f646d36f",
   "metadata": {},
   "source": [
    "Ans: Learning can be viewed as a search through the space of all sentences in a concept description language for a sentence that best describes the data. Alternatively, it can be viewed as a search through all hypotheses in a hypothesis space."
   ]
  },
  {
   "cell_type": "markdown",
   "id": "bc2667ad-88b0-4065-b1b2-0406da736d55",
   "metadata": {},
   "source": [
    "# 6.What are the various goals of machine learning? What is the relationship between these and human learning?"
   ]
  },
  {
   "cell_type": "markdown",
   "id": "7940a44f-a4b3-4c2e-9fff-74dd1397234c",
   "metadata": {},
   "source": [
    "Ans: The Goal of machine learning, closely coupled with the goal of AI, is to achieve a through understanding about the nature of learning process (both human learning and other forms of learning), about the computational aspects of learning behaviors, and to implant the learning capability in computer systems.\n",
    "\n",
    "Humans have the ability to learn, however with the progress in artificial intelligence, machine learning has become a resource which can augment or even replace human learning. Learning does not happen all at once, but it builds upon and is shaped by previous knowledge."
   ]
  },
  {
   "cell_type": "markdown",
   "id": "8f7acc16-7bda-4d92-b5e6-37613f997356",
   "metadata": {},
   "source": [
    "# 7.Illustrate the various elements of machine learning using a real-life illustration."
   ]
  },
  {
   "cell_type": "markdown",
   "id": "25552168-a517-4850-a70b-3e50ee80247d",
   "metadata": {},
   "source": [
    "Ans: The Various elements of the the Machine Learning are:\n",
    "\n",
    "Data\n",
    "Task\n",
    "Model\n",
    "Loss Function\n",
    "Learning Algorithm\n",
    "Evaluation"
   ]
  },
  {
   "cell_type": "markdown",
   "id": "a5aae6c6-15fb-4d6d-b392-44ff9aef591d",
   "metadata": {},
   "source": [
    "# 8. Provide an example of the abstraction method."
   ]
  },
  {
   "cell_type": "markdown",
   "id": "7662a368-e6f0-4122-98fb-9b24e49b5b36",
   "metadata": {},
   "source": [
    "Ans: In Machine Learning, Abstraction is supported primarily at the level of modules. This can be justified in two ways: first, Data abstraction is mostly a question of program interfaces and therefore it arises naturally at the point where we have to consider program composition and modules."
   ]
  },
  {
   "cell_type": "markdown",
   "id": "6b22e765-dda7-4cc5-9d0e-7361298e20f8",
   "metadata": {},
   "source": [
    "# 9. What is the concept of generalization? What function does it play in the machine learning process?"
   ]
  },
  {
   "cell_type": "markdown",
   "id": "d979f4aa-ad31-455c-a1be-b62131558697",
   "metadata": {},
   "source": [
    "Ans: Generalization refers to your model's ability to adapt properly to new, previously unseen data, drawn from the same distribution as the one used to create the model.\n",
    "\n",
    "In machine learning, generalization is a definition to demonstrate how well is a trained model to classify or forecast unseen data.This issue can result to classify an actual dog image as a cat from the unseen dataset. Therefore, data diversity is very important factor in order to make a good prediction."
   ]
  },
  {
   "cell_type": "markdown",
   "id": "21900397-9295-4fbe-80bf-f77c4a1d541e",
   "metadata": {},
   "source": [
    "# 10.What is classification, exactly? What are the main distinctions between classification and regression?"
   ]
  },
  {
   "cell_type": "markdown",
   "id": "6067f64d-6af0-41ff-be05-fcb8f56f2231",
   "metadata": {},
   "source": [
    "Ans: In Machine Learning, Classification refers to a predictive modeling problem where a class label is predicted for a given example of input data.Classification is the task of predicting a discrete class label. Whereas Regression is the task of predicting a continuous quantity."
   ]
  },
  {
   "cell_type": "markdown",
   "id": "80c69a69-d2c6-4f51-a817-1fa0b0d0cb82",
   "metadata": {},
   "source": [
    "# 11. What is regression, and how does it work? Give an example of a real-world problem that was solved using regression."
   ]
  },
  {
   "cell_type": "markdown",
   "id": "924c321d-2f91-4d27-9ced-e076142fc8b8",
   "metadata": {},
   "source": [
    "Ans: Regression is a Supervised Machine Learning technique which is used to predict continuous values. The ultimate goal of a regression algorithm is to plot a best-fit line or a curve between the data.\n",
    "\n",
    "The three main metrics that are used for evaluating the trained regression model are Variance, Bias and Error.\n",
    "\n",
    "A simple linear regression real life example could mean you finding a relationship between the revenue and temperature, with a sample size for revenue as the dependent variable. In case of multiple variable regression, you can find the relationship between temperature, pricing and number of workers to the revenue."
   ]
  },
  {
   "cell_type": "markdown",
   "id": "a8f78679-a7ab-4139-b976-f6e589eaebdd",
   "metadata": {},
   "source": [
    "# 12. Describe the clustering mechanism in detail"
   ]
  },
  {
   "cell_type": "markdown",
   "id": "d4a7830f-0d86-4005-a270-68aebf224e18",
   "metadata": {},
   "source": [
    "Ans: Clustering is the task of dividing the population or data points into a number of groups such that data points in the same groups are more similar to other data points in the same group than those in other groups. In simple words, the aim is to segregate groups with similar traits and assign them into clusters."
   ]
  },
  {
   "cell_type": "markdown",
   "id": "bdd34c10-419b-4638-9323-73e41af7ebb4",
   "metadata": {},
   "source": [
    "# 13. Make brief observations on two of the following topics ?\n",
    "### 1.Machine learning algorithms are used\n",
    "### 2.Studying under supervision\n",
    "### 3.Studying without supervision\n",
    "### 4.Reinforcement learning is a form of learning based on positive reinforcement."
   ]
  },
  {
   "cell_type": "markdown",
   "id": "6196e6e9-36b4-4812-8f79-ffe477991f04",
   "metadata": {},
   "source": [
    "Ans: The breif observations on the following two topics is:\n",
    "\n",
    "Machine learning algorithms are used: At its Most basic, Machine Learning uses programmed algorithms that receive and analyse input data to predict output values within an acceptable range. As new data is fed to these algorithms, they learn and optimise their operations to improve performance, developing intelligence over time.\n",
    "\n",
    "Studying Under Supervision: In machine learning, there are two important categories- Supervised and Unsupervised learning.Supervised learning, an algorithm learns from a training dataset. We know the correct answers or desired output, the algorithm makes predictions using the given dataset and is corrected by the “supervisor”."
   ]
  },
  {
   "cell_type": "code",
   "execution_count": null,
   "id": "3ae23c14-42cf-4db8-92bb-c874c0699ab0",
   "metadata": {},
   "outputs": [],
   "source": []
  }
 ],
 "metadata": {
  "kernelspec": {
   "display_name": "Python 3 (ipykernel)",
   "language": "python",
   "name": "python3"
  },
  "language_info": {
   "codemirror_mode": {
    "name": "ipython",
    "version": 3
   },
   "file_extension": ".py",
   "mimetype": "text/x-python",
   "name": "python",
   "nbconvert_exporter": "python",
   "pygments_lexer": "ipython3",
   "version": "3.10.6"
  }
 },
 "nbformat": 4,
 "nbformat_minor": 5
}
